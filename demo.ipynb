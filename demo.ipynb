{
 "cells": [
  {
   "cell_type": "markdown",
   "metadata": {},
   "source": [
    "<img align=\"left\" src = https://www.linea.gov.br/wp-content/themes/LIneA/imagens/logo-header.png width=170 style=\"padding: 40px\"> <br>\n",
    "\n",
    "## Photo-z Server - Demo Notebook\n",
    "The Photo-z Server is an online service available for the LSST Community to host and share lightweight photo-z related data products. The upload and download of data and metadata is done at the website www.linea.gov.br/pz-server (RSP authentication required). The registered data products can be accessed directly from Python code using the Photo-z Server's data access API, as demonstrated below.    <br>\n",
    "**GitHub**: https://github.com/linea-it/pz-server   <br>\n",
    "**Contact**: Julia Gschwend (julia@linea.gov.br) <br> \n"
   ]
  },
  {
   "cell_type": "markdown",
   "metadata": {},
   "source": [
    "#### Setup"
   ]
  },
  {
   "cell_type": "code",
   "execution_count": null,
   "metadata": {},
   "outputs": [],
   "source": [
    "from pz_server import PzServer"
   ]
  },
  {
   "cell_type": "code",
   "execution_count": null,
   "metadata": {},
   "outputs": [],
   "source": [
    "pz_server = PzServer()"
   ]
  },
  {
   "cell_type": "markdown",
   "metadata": {},
   "source": [
    "### Get basic info from PZ Server"
   ]
  },
  {
   "cell_type": "code",
   "execution_count": null,
   "metadata": {},
   "outputs": [],
   "source": [
    "pz_server.list_product_types"
   ]
  },
  {
   "cell_type": "code",
   "execution_count": null,
   "metadata": {},
   "outputs": [],
   "source": [
    "pz_server.list_users"
   ]
  },
  {
   "cell_type": "code",
   "execution_count": null,
   "metadata": {},
   "outputs": [],
   "source": [
    "pz_server.list_releases"
   ]
  },
  {
   "cell_type": "markdown",
   "metadata": {},
   "source": [
    "## Spec-z Catalog \n",
    "### List Spec-z Catalogs available on Pz Server"
   ]
  },
  {
   "cell_type": "code",
   "execution_count": null,
   "metadata": {},
   "outputs": [],
   "source": [
    "pz_server.list_products_available(user=\"PZ Coord. Group\", product_type=\"specz_catalog\", release=\"all\")"
   ]
  },
  {
   "cell_type": "markdown",
   "metadata": {},
   "source": [
    "### Get metadata of a given Spec-z Catalog "
   ]
  },
  {
   "cell_type": "code",
   "execution_count": null,
   "metadata": {},
   "outputs": [],
   "source": [
    "metadata_specz_1 = PzServer.get_product_metadata(product_id=\"0001\")\n",
    "metadata_specz_1  # markdown table"
   ]
  },
  {
   "cell_type": "code",
   "execution_count": null,
   "metadata": {},
   "outputs": [],
   "source": [
    "metadata_specz_2 = PzServer.get_product_metadata(product_id=\"0002\")\n",
    "metadata_specz_2  # markdown table"
   ]
  },
  {
   "cell_type": "code",
   "execution_count": null,
   "metadata": {},
   "outputs": [],
   "source": [
    "metadata_specz_3 = PzServer.get_product_metadata(product_id=\"0003\")\n",
    "metadata_specz_3  # markdown table"
   ]
  },
  {
   "cell_type": "markdown",
   "metadata": {},
   "source": [
    "### Retrieve a given Spec-z Catalog as Pandas DataFrame object"
   ]
  },
  {
   "cell_type": "code",
   "execution_count": null,
   "metadata": {},
   "outputs": [],
   "source": [
    "dataframe_specz_1 = PzServer.get_product(product_id=\"0001\", save_file=\"False\")\n",
    "dataframe_specz_2 = PzServer.get_product(product_id=\"0002\", save_file=\"False\")\n",
    "dataframe_specz_3 = PzServer.get_product(product_id=\"0003\", save_file=\"False\")"
   ]
  },
  {
   "cell_type": "markdown",
   "metadata": {},
   "source": [
    "Display basic statistics"
   ]
  },
  {
   "cell_type": "code",
   "execution_count": null,
   "metadata": {},
   "outputs": [],
   "source": [
    "dataframe_specz_1.describe()"
   ]
  },
  {
   "cell_type": "code",
   "execution_count": null,
   "metadata": {},
   "outputs": [],
   "source": [
    "dataframe_specz_2.describe()"
   ]
  },
  {
   "cell_type": "code",
   "execution_count": null,
   "metadata": {},
   "outputs": [],
   "source": [
    "dataframe_specz_3.describe()"
   ]
  },
  {
   "cell_type": "markdown",
   "metadata": {},
   "source": [
    "Mini QA Spec-z Catalogs"
   ]
  },
  {
   "cell_type": "code",
   "execution_count": null,
   "metadata": {},
   "outputs": [],
   "source": [
    "pz_server.qa_specz(data=[dataframe_specz_1, dataframe_specz_2, dataframe_specz_3],\n",
    "                   metadata=[metadata_specz_1, metadata_specz_2, metadata_specz_3])"
   ]
  },
  {
   "cell_type": "markdown",
   "metadata": {},
   "source": [
    "## Training and Validation Sets \n",
    "### List Training and Validation Sets available on Pz Server"
   ]
  },
  {
   "cell_type": "code",
   "execution_count": null,
   "metadata": {},
   "outputs": [],
   "source": [
    "pz_server.list_products_available(user=\"PZ Coord. Group\", product_type=\"train_set\", release=\"all\")"
   ]
  },
  {
   "cell_type": "code",
   "execution_count": null,
   "metadata": {},
   "outputs": [],
   "source": [
    "pz_server.list_products_available(user=\"PZ Coord. Group\", product_type=\"valid_set\", release=\"all\")"
   ]
  },
  {
   "cell_type": "markdown",
   "metadata": {},
   "source": [
    "### Get metadata of a given Training Set"
   ]
  },
  {
   "cell_type": "code",
   "execution_count": null,
   "metadata": {},
   "outputs": [],
   "source": [
    "metadata_train_set = PzServer.get_product_metadata(product_id=\"0004\")\n",
    "metadata_train_set  # markdown table"
   ]
  },
  {
   "cell_type": "markdown",
   "metadata": {},
   "source": [
    "### Get metadata of a given Validation Set"
   ]
  },
  {
   "cell_type": "code",
   "execution_count": null,
   "metadata": {},
   "outputs": [],
   "source": [
    "metadata_valid_set = PzServer.get_product_metadata(product_id=\"0005\")\n",
    "metadata_valid_set  # markdown table"
   ]
  },
  {
   "cell_type": "markdown",
   "metadata": {},
   "source": [
    "### Retrieve a given Training (or Validation) Set as Pandas DataFrame object"
   ]
  },
  {
   "cell_type": "code",
   "execution_count": null,
   "metadata": {},
   "outputs": [],
   "source": [
    "dataframe_train_set = PzServer.get_product(product_id=\"0004\", save_file=\"False\")\n",
    "dataframe_valid_set = PzServer.get_product(product_id=\"0005\", save_file=\"False\")"
   ]
  },
  {
   "cell_type": "markdown",
   "metadata": {},
   "source": [
    "Display basic statistics"
   ]
  },
  {
   "cell_type": "code",
   "execution_count": null,
   "metadata": {},
   "outputs": [],
   "source": [
    "dataframe_train_set.describe()"
   ]
  },
  {
   "cell_type": "code",
   "execution_count": null,
   "metadata": {},
   "outputs": [],
   "source": [
    "dataframe_valid_set.describe()"
   ]
  },
  {
   "cell_type": "markdown",
   "metadata": {},
   "source": [
    "Mini QA Traininig and Validaiton Sets"
   ]
  },
  {
   "cell_type": "code",
   "execution_count": null,
   "metadata": {},
   "outputs": [],
   "source": [
    "pz_server.qa_train_valid(data=[dataframe_train_set, dataframe_valid_set], \n",
    "                         metadata=[metadata_train_set, metadata_valid_set])"
   ]
  },
  {
   "cell_type": "markdown",
   "metadata": {},
   "source": [
    "## Photo-z Validation Results\n",
    "### List Photo-z Validation Results available on Pz Server"
   ]
  },
  {
   "cell_type": "code",
   "execution_count": null,
   "metadata": {},
   "outputs": [],
   "source": [
    "pz_server.list_products_available(user=\"PZ Coord. Group\", product_type=\"pz_result\", release=\"all\")"
   ]
  },
  {
   "cell_type": "markdown",
   "metadata": {},
   "source": [
    "### Get metadata of a given Training Set"
   ]
  },
  {
   "cell_type": "code",
   "execution_count": null,
   "metadata": {},
   "outputs": [],
   "source": [
    "metadata_pz_result = PzServer.get_product_metadata(product_id=\"0006\")\n",
    "metadata_pz_result  # markdown table"
   ]
  },
  {
   "cell_type": "markdown",
   "metadata": {},
   "source": [
    "### Retrieve a given Photo-z Validation Result: download .tar file"
   ]
  },
  {
   "cell_type": "code",
   "execution_count": null,
   "metadata": {},
   "outputs": [],
   "source": [
    "pz_result = PzServer.get_product(product_id=\"0006\", save_file=\"True\")\n",
    "pz_result # string tar file name"
   ]
  },
  {
   "cell_type": "markdown",
   "metadata": {},
   "source": [
    "#### Basic Photo-z Validation Plots\n",
    "\n",
    "Reuse RAIL evaluation plots and tables for illustration with an example of Photo-z Validation Results. "
   ]
  },
  {
   "cell_type": "code",
   "execution_count": null,
   "metadata": {},
   "outputs": [],
   "source": [
    "#  open .tar file "
   ]
  },
  {
   "cell_type": "code",
   "execution_count": null,
   "metadata": {},
   "outputs": [],
   "source": [
    "from RAIL.examples.evaluation.utils import *\n",
    "from RAIL.rail.evaluation.metrics.pit import *\n",
    "from RAIL.rail.evaluation.metrics.cdeloss import *"
   ]
  },
  {
   "cell_type": "code",
   "execution_count": null,
   "metadata": {},
   "outputs": [],
   "source": [
    "my_path = 'xxx/xxx/xx' \n",
    "pdfs_file =  os.path.join(my_path, \"pdfs_FZBoost.hdf5\")\n",
    "ztrue_file =  os.path.join(my_path, \"ztrue_validation_set.hdf5\")\n",
    "pdfs, zgrid, ztrue, photoz_mode = read_pz_output(pdfs_file, ztrue_file) # all numpy arrays"
   ]
  },
  {
   "cell_type": "markdown",
   "metadata": {},
   "source": [
    "Plot PIT-QQ"
   ]
  },
  {
   "cell_type": "code",
   "execution_count": null,
   "metadata": {},
   "outputs": [],
   "source": [
    "plot_pit_qq(pdfs, zgrid, ztrue, title=\"PIT-QQ - toy data\", code=\"FZBoost\",\n",
    "                pit_out_rate=pit_out_rate, savefig=False)"
   ]
  },
  {
   "cell_type": "markdown",
   "metadata": {},
   "source": [
    "PZ Validation metrics table"
   ]
  },
  {
   "cell_type": "code",
   "execution_count": null,
   "metadata": {},
   "outputs": [],
   "source": [
    "summary = Summary(pdfs, zgrid, ztrue)\n",
    "summary.markdown_metrics_table(pitobj=pitobj) # pitobj as optional input to speed-up metrics evaluation"
   ]
  }
 ],
 "metadata": {
  "kernelspec": {
   "display_name": "Python 3",
   "language": "python",
   "name": "python3"
  },
  "language_info": {
   "codemirror_mode": {
    "name": "ipython",
    "version": 3
   },
   "file_extension": ".py",
   "mimetype": "text/x-python",
   "name": "python",
   "nbconvert_exporter": "python",
   "pygments_lexer": "ipython3",
   "version": "3.8.6"
  }
 },
 "nbformat": 4,
 "nbformat_minor": 4
}
